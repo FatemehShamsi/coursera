{
  "nbformat": 4,
  "nbformat_minor": 0,
  "metadata": {
    "accelerator": "GPU",
    "kernelspec": {
      "display_name": "Python 3",
      "language": "python",
      "name": "python3"
    },
    "language_info": {
      "codemirror_mode": {
        "name": "ipython",
        "version": 3
      },
      "file_extension": ".py",
      "mimetype": "text/x-python",
      "name": "python",
      "nbconvert_exporter": "python",
      "pygments_lexer": "ipython3",
      "version": "3.7.4"
    },
    "colab": {
      "name": "Week 2 Assignment: AutoEncoder Model Loss and Accuracy .ipynb",
      "provenance": [],
      "collapsed_sections": []
    }
  },
  "cells": [
    {
      "cell_type": "markdown",
      "metadata": {
        "id": "L6S2HVAkSt0p"
      },
      "source": [
        "# Week 2 Assignment: CIFAR-10 Autoencoder\n",
        "\n",
        "For this week, you will create a convolutional autoencoder for the [CIFAR10](https://www.tensorflow.org/datasets/catalog/cifar10) dataset. You are free to choose the architecture of your autoencoder provided that the output image has the same dimensions as the input image.\n",
        "\n",
        "After training, your model should meet loss and accuracy requirements when evaluated with the test dataset. You will then download the model and upload it in the classroom for grading. \n",
        "\n",
        "Let's begin!"
      ]
    },
    {
      "cell_type": "markdown",
      "metadata": {
        "id": "6r4iPr2jyisR"
      },
      "source": [
        "***Important:*** *This colab notebook has read-only access so you won't be able to save your changes. If you want to save your work periodically, please click `File -> Save a Copy in Drive` to create a copy in your account, then work from there.*  "
      ]
    },
    {
      "cell_type": "markdown",
      "metadata": {
        "id": "g1mzy2J8_nc1"
      },
      "source": [
        "## Imports"
      ]
    },
    {
      "cell_type": "code",
      "metadata": {
        "id": "3EXwoz-KHtWO"
      },
      "source": [
        "try:\n",
        "  # %tensorflow_version only exists in Colab.\n",
        "  %tensorflow_version 2.x\n",
        "except Exception:\n",
        "  pass\n",
        "\n",
        "import tensorflow as tf\n",
        "import tensorflow_datasets as tfds\n",
        "\n",
        "from keras.models import Sequential"
      ],
      "execution_count": 1,
      "outputs": []
    },
    {
      "cell_type": "markdown",
      "metadata": {
        "id": "n2Gs6Lyc_pd0"
      },
      "source": [
        "## Load and prepare the dataset\n",
        "\n",
        "The [CIFAR 10](https://www.tensorflow.org/datasets/catalog/cifar10) dataset already has train and test splits and you can use those in this exercise. Here are the general steps:\n",
        "\n",
        "* Load the train/test split from TFDS. Set `as_supervised` to `True` so it will be convenient to use the preprocessing function we provided.\n",
        "* Normalize the pixel values to the range [0,1], then return `image, image` pairs for training instead of `image, label`. This is because you will check if the output image is successfully regenerated after going through your autoencoder.\n",
        "* Shuffle and batch the train set. Batch the test set (no need to shuffle).\n"
      ]
    },
    {
      "cell_type": "code",
      "metadata": {
        "id": "t9F7YsCNIKSA"
      },
      "source": [
        "# preprocessing function\n",
        "def map_image(image, label):\n",
        "  image = tf.cast(image, dtype=tf.float32)\n",
        "  image = image / 255.0\n",
        "\n",
        "  return image, image # dataset label is not used. replaced with the same image input.\n",
        "\n",
        "# parameters\n",
        "BATCH_SIZE = 128\n",
        "SHUFFLE_BUFFER_SIZE = 1024\n",
        "\n",
        "\n",
        "### START CODE HERE (Replace instances of `None` with your code) ###\n",
        "\n",
        "# use tfds.load() to fetch the 'train' split of CIFAR-10\n",
        "train_dataset = tfds.load('cifar10',as_supervised=True,split='train')\n",
        "\n",
        "# preprocess the dataset with the `map_image()` function above\n",
        "train_dataset = train_dataset.map(map_image)\n",
        "\n",
        "# shuffle and batch the dataset\n",
        "train_dataset = train_dataset.shuffle(SHUFFLE_BUFFER_SIZE).batch(BATCH_SIZE)\n",
        "\n",
        "\n",
        "# use tfds.load() to fetch the 'test' split of CIFAR-10\n",
        "test_dataset = tfds.load('cifar10',as_supervised=True,split='test')\n",
        "\n",
        "# preprocess the dataset with the `map_image()` function above\n",
        "test_dataset = test_dataset.map(map_image)\n",
        "\n",
        "# batch the dataset\n",
        "test_dataset = test_dataset.batch(BATCH_SIZE)\n",
        "\n",
        "### END CODE HERE ###"
      ],
      "execution_count": 3,
      "outputs": []
    },
    {
      "cell_type": "markdown",
      "metadata": {
        "id": "rPyOgGJs_t98"
      },
      "source": [
        "## Build the Model\n",
        "\n",
        "Create the autoencoder model. As shown in the lectures, you will want to downsample the image in the encoder layers then upsample it in the decoder path. Note that the output layer should be the same dimensions as the original image. Your input images will have the shape `(32, 32, 3)`. If you deviate from this, your model may not be recognized by the grader and may fail. \n",
        "\n",
        "We included a few hints to use the Sequential API below but feel free to remove it and use the Functional API just like in the ungraded labs if you're more comfortable with it. Another reason to use the latter is if you want to visualize the encoder output. As shown in the ungraded labs, it will be easier to indicate multiple outputs with the Functional API. That is not required for this assignment though so you can just stack layers sequentially if you want a simpler solution."
      ]
    },
    {
      "cell_type": "code",
      "metadata": {
        "id": "Wr-Bok3lRgA3",
        "colab": {
          "base_uri": "https://localhost:8080/"
        },
        "outputId": "d7d3a909-626b-4659-85a5-2564c98cf9b0"
      },
      "source": [
        "# suggested layers to use. feel free to add or remove as you see fit.\n",
        "from keras.layers import Conv2D, UpSampling2D,MaxPooling2D\n",
        "\n",
        "# use the Sequential API (you can remove if you want to use the Functional API)\n",
        "model = Sequential()\n",
        "\n",
        "### START CODE HERE ###\n",
        "# use `model.add()` to add layers (if using the Sequential API)\n",
        "model.add(Conv2D(filters=32,kernel_size=(3,3),activation='relu',input_shape=(32,32,3),padding='same'))\n",
        "model.add(MaxPooling2D(pool_size=(2,2)))\n",
        "#model.add(Conv2D(filters=64,kernel_size=(3,3),activation='relu'))\n",
        "#model.add(MaxPooling2D(pool_size=(2,2)))\n",
        "model.add(Conv2D(filters=64,kernel_size=(3,3),activation='relu',padding='same'))\n",
        "\n",
        "model.add(Conv2D(filters=128,kernel_size=(3,3),activation='relu',padding='same'))\n",
        "\n",
        "model.add(Conv2D(filters=64,kernel_size=(3,3),activation='relu',padding='same'))\n",
        "model.add(UpSampling2D(size=(2,2)))\n",
        "#model.add(Conv2D(filters=64,kernel_size=(3,3),activation='relu'))\n",
        "#model.add(UpSampling2D(size=(2,2)))\n",
        "model.add(Conv2D(filters=32,kernel_size=(3,3),activation='relu',padding='same'))\n",
        "#model.add(UpSampling2D(size=(2,2)))\n",
        "\n",
        "model.add(Conv2D(filters=3,kernel_size=(3,3),activation='sigmoid',padding='same'))\n",
        "\n",
        "\n",
        "### END CODE HERE ###\n",
        "\n",
        "model.summary()"
      ],
      "execution_count": 16,
      "outputs": [
        {
          "output_type": "stream",
          "name": "stdout",
          "text": [
            "Model: \"sequential_7\"\n",
            "_________________________________________________________________\n",
            " Layer (type)                Output Shape              Param #   \n",
            "=================================================================\n",
            " conv2d_41 (Conv2D)          (None, 32, 32, 32)        896       \n",
            "                                                                 \n",
            " max_pooling2d_8 (MaxPooling  (None, 16, 16, 32)       0         \n",
            " 2D)                                                             \n",
            "                                                                 \n",
            " conv2d_42 (Conv2D)          (None, 16, 16, 64)        18496     \n",
            "                                                                 \n",
            " conv2d_43 (Conv2D)          (None, 16, 16, 128)       73856     \n",
            "                                                                 \n",
            " conv2d_44 (Conv2D)          (None, 16, 16, 64)        73792     \n",
            "                                                                 \n",
            " up_sampling2d_12 (UpSamplin  (None, 32, 32, 64)       0         \n",
            " g2D)                                                            \n",
            "                                                                 \n",
            " conv2d_45 (Conv2D)          (None, 32, 32, 32)        18464     \n",
            "                                                                 \n",
            " conv2d_46 (Conv2D)          (None, 32, 32, 3)         867       \n",
            "                                                                 \n",
            "=================================================================\n",
            "Total params: 186,371\n",
            "Trainable params: 186,371\n",
            "Non-trainable params: 0\n",
            "_________________________________________________________________\n"
          ]
        }
      ]
    },
    {
      "cell_type": "markdown",
      "metadata": {
        "id": "jRWTAijKEVUC"
      },
      "source": [
        "## Configure training parameters\n",
        "\n",
        "We have already provided the optimizer, metrics, and loss in the code below."
      ]
    },
    {
      "cell_type": "code",
      "metadata": {
        "id": "iHIeD9eDETSk"
      },
      "source": [
        "# Please do not change the model.compile() parameters\n",
        "model.compile(optimizer='adam', metrics=['accuracy'], loss='mean_squared_error')"
      ],
      "execution_count": 17,
      "outputs": []
    },
    {
      "cell_type": "markdown",
      "metadata": {
        "id": "tLQPhm1W_8dC"
      },
      "source": [
        "## Training\n",
        "\n",
        "You can now use [model.fit()](https://keras.io/api/models/model_training_apis/#fit-method) to train your model. You will pass in the `train_dataset` and you are free to configure the other parameters. As with any training, you should see the loss generally going down and the accuracy going up with each epoch. If not, please revisit the previous sections to find possible bugs.\n",
        "\n",
        "*Note: If you get a `dataset length is infinite` error. Please check how you defined `train_dataset`. You might have included a [method that repeats the dataset indefinitely](https://www.tensorflow.org/api_docs/python/tf/data/Dataset#repeat).*"
      ]
    },
    {
      "cell_type": "code",
      "metadata": {
        "id": "AMBimOnsRvg0",
        "colab": {
          "base_uri": "https://localhost:8080/"
        },
        "outputId": "dcfaeb6c-4ac0-4cc0-bb10-928c38b9c428"
      },
      "source": [
        "# parameters (feel free to change this)\n",
        "train_steps = len(train_dataset) // BATCH_SIZE \n",
        "val_steps = len(test_dataset) // BATCH_SIZE\n",
        "\n",
        "### START CODE HERE ###\n",
        "model.fit(train_dataset, steps_per_epoch=train_steps, validation_data=test_dataset, validation_steps=val_steps, epochs=100)\n",
        "### END CODE HERE ###"
      ],
      "execution_count": 18,
      "outputs": [
        {
          "output_type": "stream",
          "name": "stdout",
          "text": [
            "Epoch 1/100\n",
            "3/3 [==============================] - 11s 110ms/step - loss: 0.0630 - accuracy: 0.3369\n",
            "Epoch 2/100\n",
            "3/3 [==============================] - 0s 90ms/step - loss: 0.0561 - accuracy: 0.3723\n",
            "Epoch 3/100\n",
            "3/3 [==============================] - 0s 84ms/step - loss: 0.0475 - accuracy: 0.4142\n",
            "Epoch 4/100\n",
            "3/3 [==============================] - 0s 88ms/step - loss: 0.0368 - accuracy: 0.3391\n",
            "Epoch 5/100\n",
            "3/3 [==============================] - 0s 87ms/step - loss: 0.0296 - accuracy: 0.4962\n",
            "Epoch 6/100\n",
            "3/3 [==============================] - 0s 86ms/step - loss: 0.0248 - accuracy: 0.4177\n",
            "Epoch 7/100\n",
            "3/3 [==============================] - 0s 80ms/step - loss: 0.0234 - accuracy: 0.4566\n",
            "Epoch 8/100\n",
            "3/3 [==============================] - 0s 83ms/step - loss: 0.0186 - accuracy: 0.4664\n",
            "Epoch 9/100\n",
            "3/3 [==============================] - 0s 83ms/step - loss: 0.0168 - accuracy: 0.5186\n",
            "Epoch 10/100\n",
            "3/3 [==============================] - 0s 86ms/step - loss: 0.0164 - accuracy: 0.5005\n",
            "Epoch 11/100\n",
            "3/3 [==============================] - 0s 84ms/step - loss: 0.0142 - accuracy: 0.5513\n",
            "Epoch 12/100\n",
            "3/3 [==============================] - 0s 88ms/step - loss: 0.0126 - accuracy: 0.6040\n",
            "Epoch 13/100\n",
            "3/3 [==============================] - 0s 92ms/step - loss: 0.0109 - accuracy: 0.6251\n",
            "Epoch 14/100\n",
            "3/3 [==============================] - 0s 88ms/step - loss: 0.0114 - accuracy: 0.6338\n",
            "Epoch 15/100\n",
            "3/3 [==============================] - 0s 86ms/step - loss: 0.0108 - accuracy: 0.6326\n",
            "Epoch 16/100\n",
            "3/3 [==============================] - 0s 85ms/step - loss: 0.0100 - accuracy: 0.6481\n",
            "Epoch 17/100\n",
            "3/3 [==============================] - 0s 83ms/step - loss: 0.0089 - accuracy: 0.6649\n",
            "Epoch 18/100\n",
            "3/3 [==============================] - 0s 94ms/step - loss: 0.0087 - accuracy: 0.6542\n",
            "Epoch 19/100\n",
            "3/3 [==============================] - 0s 85ms/step - loss: 0.0082 - accuracy: 0.6536\n",
            "Epoch 20/100\n",
            "3/3 [==============================] - 0s 90ms/step - loss: 0.0077 - accuracy: 0.6631\n",
            "Epoch 21/100\n",
            "3/3 [==============================] - 0s 84ms/step - loss: 0.0076 - accuracy: 0.6675\n",
            "Epoch 22/100\n",
            "3/3 [==============================] - 0s 86ms/step - loss: 0.0076 - accuracy: 0.6778\n",
            "Epoch 23/100\n",
            "3/3 [==============================] - 0s 87ms/step - loss: 0.0067 - accuracy: 0.7010\n",
            "Epoch 24/100\n",
            "3/3 [==============================] - 0s 90ms/step - loss: 0.0067 - accuracy: 0.6830\n",
            "Epoch 25/100\n",
            "3/3 [==============================] - 0s 92ms/step - loss: 0.0064 - accuracy: 0.7281\n",
            "Epoch 26/100\n",
            "3/3 [==============================] - 0s 89ms/step - loss: 0.0091 - accuracy: 0.7028\n",
            "Epoch 27/100\n",
            "3/3 [==============================] - 0s 85ms/step - loss: 0.0073 - accuracy: 0.7201\n",
            "Epoch 28/100\n",
            "3/3 [==============================] - 0s 89ms/step - loss: 0.0067 - accuracy: 0.7187\n",
            "Epoch 29/100\n",
            "3/3 [==============================] - 0s 87ms/step - loss: 0.0062 - accuracy: 0.7143\n",
            "Epoch 30/100\n",
            "3/3 [==============================] - 0s 93ms/step - loss: 0.0060 - accuracy: 0.7229\n",
            "Epoch 31/100\n",
            "3/3 [==============================] - 0s 87ms/step - loss: 0.0057 - accuracy: 0.7314\n",
            "Epoch 32/100\n",
            "3/3 [==============================] - 0s 86ms/step - loss: 0.0055 - accuracy: 0.7415\n",
            "Epoch 33/100\n",
            "3/3 [==============================] - 0s 90ms/step - loss: 0.0054 - accuracy: 0.7183\n",
            "Epoch 34/100\n",
            "3/3 [==============================] - 0s 91ms/step - loss: 0.0052 - accuracy: 0.7340\n",
            "Epoch 35/100\n",
            "3/3 [==============================] - 0s 87ms/step - loss: 0.0051 - accuracy: 0.7405\n",
            "Epoch 36/100\n",
            "3/3 [==============================] - 0s 88ms/step - loss: 0.0048 - accuracy: 0.7548\n",
            "Epoch 37/100\n",
            "3/3 [==============================] - 0s 87ms/step - loss: 0.0046 - accuracy: 0.7558\n",
            "Epoch 38/100\n",
            "3/3 [==============================] - 0s 92ms/step - loss: 0.0046 - accuracy: 0.7419\n",
            "Epoch 39/100\n",
            "3/3 [==============================] - 0s 85ms/step - loss: 0.0045 - accuracy: 0.7492\n",
            "Epoch 40/100\n",
            "3/3 [==============================] - 0s 90ms/step - loss: 0.0043 - accuracy: 0.7421\n",
            "Epoch 41/100\n",
            "3/3 [==============================] - 0s 87ms/step - loss: 0.0054 - accuracy: 0.7609\n",
            "Epoch 42/100\n",
            "3/3 [==============================] - 0s 86ms/step - loss: 0.0083 - accuracy: 0.7266\n",
            "Epoch 43/100\n",
            "3/3 [==============================] - 0s 90ms/step - loss: 0.0063 - accuracy: 0.7385\n",
            "Epoch 44/100\n",
            "3/3 [==============================] - 0s 93ms/step - loss: 0.0063 - accuracy: 0.7287\n",
            "Epoch 45/100\n",
            "3/3 [==============================] - 0s 90ms/step - loss: 0.0054 - accuracy: 0.7407\n",
            "Epoch 46/100\n",
            "3/3 [==============================] - 0s 86ms/step - loss: 0.0051 - accuracy: 0.7466\n",
            "Epoch 47/100\n",
            "3/3 [==============================] - 0s 89ms/step - loss: 0.0047 - accuracy: 0.7367\n",
            "Epoch 48/100\n",
            "3/3 [==============================] - 0s 84ms/step - loss: 0.0047 - accuracy: 0.7198\n",
            "Epoch 49/100\n",
            "3/3 [==============================] - 0s 91ms/step - loss: 0.0043 - accuracy: 0.7687\n",
            "Epoch 50/100\n",
            "3/3 [==============================] - 0s 88ms/step - loss: 0.0042 - accuracy: 0.7437\n",
            "Epoch 51/100\n",
            "3/3 [==============================] - 0s 87ms/step - loss: 0.0039 - accuracy: 0.7827\n",
            "Epoch 52/100\n",
            "3/3 [==============================] - 0s 103ms/step - loss: 0.0039 - accuracy: 0.7568\n",
            "Epoch 53/100\n",
            "3/3 [==============================] - 0s 91ms/step - loss: 0.0037 - accuracy: 0.7570\n",
            "Epoch 54/100\n",
            "3/3 [==============================] - 0s 85ms/step - loss: 0.0035 - accuracy: 0.7860\n",
            "Epoch 55/100\n",
            "3/3 [==============================] - 0s 85ms/step - loss: 0.0037 - accuracy: 0.7659\n",
            "Epoch 56/100\n",
            "3/3 [==============================] - 0s 95ms/step - loss: 0.0037 - accuracy: 0.7586\n",
            "Epoch 57/100\n",
            "3/3 [==============================] - 0s 88ms/step - loss: 0.0037 - accuracy: 0.7749\n",
            "Epoch 58/100\n",
            "3/3 [==============================] - 0s 86ms/step - loss: 0.0035 - accuracy: 0.7817\n",
            "Epoch 59/100\n",
            "3/3 [==============================] - 0s 91ms/step - loss: 0.0034 - accuracy: 0.7704\n",
            "Epoch 60/100\n",
            "3/3 [==============================] - 0s 89ms/step - loss: 0.0034 - accuracy: 0.7866\n",
            "Epoch 61/100\n",
            "3/3 [==============================] - 0s 88ms/step - loss: 0.0032 - accuracy: 0.7750\n",
            "Epoch 62/100\n",
            "3/3 [==============================] - 0s 98ms/step - loss: 0.0032 - accuracy: 0.7957\n",
            "Epoch 63/100\n",
            "3/3 [==============================] - 0s 89ms/step - loss: 0.0033 - accuracy: 0.7932\n",
            "Epoch 64/100\n",
            "3/3 [==============================] - 0s 89ms/step - loss: 0.0036 - accuracy: 0.7991\n",
            "Epoch 65/100\n",
            "3/3 [==============================] - 0s 86ms/step - loss: 0.0058 - accuracy: 0.7812\n",
            "Epoch 66/100\n",
            "3/3 [==============================] - 0s 87ms/step - loss: 0.0043 - accuracy: 0.7835\n",
            "Epoch 67/100\n",
            "3/3 [==============================] - 0s 94ms/step - loss: 0.0037 - accuracy: 0.7773\n",
            "Epoch 68/100\n",
            "3/3 [==============================] - 0s 96ms/step - loss: 0.0038 - accuracy: 0.7738\n",
            "Epoch 69/100\n",
            "3/3 [==============================] - 0s 93ms/step - loss: 0.0035 - accuracy: 0.7942\n",
            "Epoch 70/100\n",
            "3/3 [==============================] - 0s 103ms/step - loss: 0.0034 - accuracy: 0.7988\n",
            "Epoch 71/100\n",
            "3/3 [==============================] - 0s 94ms/step - loss: 0.0033 - accuracy: 0.7736\n",
            "Epoch 72/100\n",
            "3/3 [==============================] - 0s 84ms/step - loss: 0.0031 - accuracy: 0.7931\n",
            "Epoch 73/100\n",
            "3/3 [==============================] - 0s 85ms/step - loss: 0.0030 - accuracy: 0.7988\n",
            "Epoch 74/100\n",
            "3/3 [==============================] - 0s 96ms/step - loss: 0.0029 - accuracy: 0.7988\n",
            "Epoch 75/100\n",
            "3/3 [==============================] - 0s 89ms/step - loss: 0.0030 - accuracy: 0.7799\n",
            "Epoch 76/100\n",
            "3/3 [==============================] - 0s 90ms/step - loss: 0.0028 - accuracy: 0.7984\n",
            "Epoch 77/100\n",
            "3/3 [==============================] - 0s 87ms/step - loss: 0.0028 - accuracy: 0.7957\n",
            "Epoch 78/100\n",
            "3/3 [==============================] - 0s 91ms/step - loss: 0.0028 - accuracy: 0.7817\n",
            "Epoch 79/100\n",
            "3/3 [==============================] - 0s 87ms/step - loss: 0.0029 - accuracy: 0.8008\n",
            "Epoch 80/100\n",
            "3/3 [==============================] - 0s 89ms/step - loss: 0.0032 - accuracy: 0.7802\n",
            "Epoch 81/100\n",
            "3/3 [==============================] - 0s 85ms/step - loss: 0.0028 - accuracy: 0.7921\n",
            "Epoch 82/100\n",
            "3/3 [==============================] - 0s 94ms/step - loss: 0.0028 - accuracy: 0.7933\n",
            "Epoch 83/100\n",
            "3/3 [==============================] - 0s 89ms/step - loss: 0.0027 - accuracy: 0.8049\n",
            "Epoch 84/100\n",
            "3/3 [==============================] - 0s 88ms/step - loss: 0.0027 - accuracy: 0.7951\n",
            "Epoch 85/100\n",
            "3/3 [==============================] - 0s 87ms/step - loss: 0.0026 - accuracy: 0.8020\n",
            "Epoch 86/100\n",
            "3/3 [==============================] - 0s 96ms/step - loss: 0.0026 - accuracy: 0.8058\n",
            "Epoch 87/100\n",
            "3/3 [==============================] - 0s 88ms/step - loss: 0.0028 - accuracy: 0.7921\n",
            "Epoch 88/100\n",
            "3/3 [==============================] - 0s 88ms/step - loss: 0.0034 - accuracy: 0.7926\n",
            "Epoch 89/100\n",
            "3/3 [==============================] - 0s 93ms/step - loss: 0.0027 - accuracy: 0.7987\n",
            "Epoch 90/100\n",
            "3/3 [==============================] - 0s 130ms/step - loss: 0.0027 - accuracy: 0.8147\n",
            "Epoch 91/100\n",
            "3/3 [==============================] - 0s 134ms/step - loss: 0.0027 - accuracy: 0.8110\n",
            "Epoch 92/100\n",
            "3/3 [==============================] - 0s 89ms/step - loss: 0.0029 - accuracy: 0.7865\n",
            "Epoch 93/100\n",
            "3/3 [==============================] - 0s 100ms/step - loss: 0.0027 - accuracy: 0.7959\n",
            "Epoch 94/100\n",
            "3/3 [==============================] - 0s 89ms/step - loss: 0.0024 - accuracy: 0.7932\n",
            "Epoch 95/100\n",
            "3/3 [==============================] - 0s 87ms/step - loss: 0.0023 - accuracy: 0.8044\n",
            "Epoch 96/100\n",
            "3/3 [==============================] - 0s 87ms/step - loss: 0.0024 - accuracy: 0.7939\n",
            "Epoch 97/100\n",
            "3/3 [==============================] - 0s 89ms/step - loss: 0.0025 - accuracy: 0.7978\n",
            "Epoch 98/100\n",
            "3/3 [==============================] - 0s 94ms/step - loss: 0.0022 - accuracy: 0.7901\n",
            "Epoch 99/100\n",
            "3/3 [==============================] - 0s 85ms/step - loss: 0.0023 - accuracy: 0.8079\n",
            "Epoch 100/100\n",
            "3/3 [==============================] - 0s 94ms/step - loss: 0.0026 - accuracy: 0.8017\n"
          ]
        },
        {
          "output_type": "execute_result",
          "data": {
            "text/plain": [
              "<keras.callbacks.History at 0x7f877005c590>"
            ]
          },
          "metadata": {},
          "execution_count": 18
        }
      ]
    },
    {
      "cell_type": "markdown",
      "metadata": {
        "id": "PT2l1c-SAaF4"
      },
      "source": [
        "## Model evaluation\n",
        "\n",
        "You can use this code to test your model locally before uploading to the grader. To pass, your model needs to satisfy these two requirements:\n",
        "\n",
        "* loss must be less than 0.01 \n",
        "* accuracy must be greater than 0.6"
      ]
    },
    {
      "cell_type": "code",
      "metadata": {
        "id": "vFncgqahSQhA",
        "colab": {
          "base_uri": "https://localhost:8080/"
        },
        "outputId": "fe048b0c-1c44-4072-89e4-88090d650078"
      },
      "source": [
        "result = model.evaluate(test_dataset, steps=10)"
      ],
      "execution_count": 19,
      "outputs": [
        {
          "output_type": "stream",
          "name": "stdout",
          "text": [
            "10/10 [==============================] - 1s 43ms/step - loss: 0.0031 - accuracy: 0.8144\n"
          ]
        }
      ]
    },
    {
      "cell_type": "markdown",
      "metadata": {
        "id": "di6VOHGwIsVM"
      },
      "source": [
        "If you did some visualization like in the ungraded labs, then you might see something like the gallery below. This part is not required."
      ]
    },
    {
      "cell_type": "markdown",
      "metadata": {
        "id": "wmpI4skkIA5L"
      },
      "source": [
        "<img src=\"https://drive.google.com/uc?export=view&id=12Fy-guiP-3tTPfc9IV2nHhqLvs7LwRo6\" width=\"75%\" height=\"75%\"/>"
      ]
    },
    {
      "cell_type": "markdown",
      "metadata": {
        "id": "uaRSkQPNAPT0"
      },
      "source": [
        "## Save your model\n",
        "\n",
        "Once you are satisfied with the results, you can now save your model. Please download it from the Files window on the left and go back to the Submission portal in Coursera for grading."
      ]
    },
    {
      "cell_type": "code",
      "metadata": {
        "id": "pLFpLP-c7rDR"
      },
      "source": [
        "model.save('mymodel.h5')"
      ],
      "execution_count": 20,
      "outputs": []
    },
    {
      "cell_type": "markdown",
      "metadata": {
        "id": "QArMiXJTDxDe"
      },
      "source": [
        "**Congratulations on completing this week's assignment!**"
      ]
    }
  ]
}