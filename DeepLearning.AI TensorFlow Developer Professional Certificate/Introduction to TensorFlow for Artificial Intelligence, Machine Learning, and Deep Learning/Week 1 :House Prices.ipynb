{
 "cells": [
  {
   "cell_type": "markdown",
   "metadata": {
    "colab_type": "text",
    "id": "mw2VBrBcgvGa"
   },
   "source": [
    "In this exercise you'll try to build a neural network that predicts the price of a house according to a simple formula.\n",
    "\n",
    "So, imagine if house pricing was as easy as a house costs 50k + 50k per bedroom, so that a 1 bedroom house costs 100k, a 2 bedroom house costs 150k etc.\n",
    "\n",
    "How would you create a neural network that learns this relationship so that it would predict a 7 bedroom house as costing close to 400k etc.\n",
    "\n",
    "Hint: Your network might work better if you scale the house price down. You don't have to give the answer 400...it might be better to create something that predicts the number 4, and then your answer is in the 'hundreds of thousands' etc."
   ]
  },
  {
   "cell_type": "code",
   "execution_count": 1,
   "metadata": {},
   "outputs": [],
   "source": [
    "import tensorflow as tf\n",
    "import numpy as np\n",
    "from tensorflow import keras"
   ]
  },
  {
   "cell_type": "code",
   "execution_count": 10,
   "metadata": {
    "colab": {},
    "colab_type": "code",
    "id": "PUNO2E6SeURH"
   },
   "outputs": [],
   "source": [
    "# GRADED FUNCTION: house_model\n",
    "def house_model(y_new):\n",
    "    xs = np.array([0.0 ,1.0 ,2.0 ,3.0 ,4.0 ,5.0 ,6.0 ,9.0 ,12.0],dtype=float)\n",
    "    ys = np.array([0.5 ,1.0 ,1.5 ,2.0 ,2.5 ,3.0 ,3.5 ,5.0 ,6.5],dtype=float)\n",
    "    model = keras.Sequential([keras.layers.Dense(units=1,input_shape=[1])])\n",
    "    model.compile(optimizer='sgd',loss='mean_squared_error')\n",
    "    model.fit(xs ,ys ,epochs=10)\n",
    "    return model.predict(y_new)[0]"
   ]
  },
  {
   "cell_type": "code",
   "execution_count": 11,
   "metadata": {},
   "outputs": [
    {
     "name": "stdout",
     "output_type": "stream",
     "text": [
      "Epoch 1/10\n",
      "9/9 [==============================] - 3s 314ms/sample - loss: 130.8283\n",
      "Epoch 2/10\n",
      "9/9 [==============================] - 0s 6ms/sample - loss: 10.6650\n",
      "Epoch 3/10\n",
      "9/9 [==============================] - 0s 226us/sample - loss: 0.8881\n",
      "Epoch 4/10\n",
      "9/9 [==============================] - 0s 169us/sample - loss: 0.0923\n",
      "Epoch 5/10\n",
      "9/9 [==============================] - 0s 143us/sample - loss: 0.0273\n",
      "Epoch 6/10\n",
      "9/9 [==============================] - 0s 160us/sample - loss: 0.0217\n",
      "Epoch 7/10\n",
      "9/9 [==============================] - 0s 212us/sample - loss: 0.0209\n",
      "Epoch 8/10\n",
      "9/9 [==============================] - 0s 204us/sample - loss: 0.0206\n",
      "Epoch 9/10\n",
      "9/9 [==============================] - 0s 174us/sample - loss: 0.0203\n",
      "Epoch 10/10\n",
      "9/9 [==============================] - 0s 150us/sample - loss: 0.0200\n",
      "[3.9863818]\n"
     ]
    }
   ],
   "source": [
    "prediction = house_model([7.0])\n",
    "print(prediction)"
   ]
  },
  {
   "cell_type": "code",
   "execution_count": 4,
   "metadata": {},
   "outputs": [],
   "source": [
    "# Now click the 'Submit Assignment' button above.\n",
    "# Once that is complete, please run the following two cells to save your work and close the notebook"
   ]
  },
  {
   "cell_type": "code",
   "execution_count": null,
   "metadata": {},
   "outputs": [],
   "source": [
    "%%javascript\n",
    "<!-- Save the notebook -->\n",
    "IPython.notebook.save_checkpoint();"
   ]
  },
  {
   "cell_type": "code",
   "execution_count": null,
   "metadata": {},
   "outputs": [],
   "source": [
    "%%javascript\n",
    "IPython.notebook.session.delete();\n",
    "window.onbeforeunload = null\n",
    "setTimeout(function() { window.close(); }, 1000);"
   ]
  }
 ],
 "metadata": {
  "coursera": {
   "course_slug": "introduction-tensorflow",
   "graded_item_id": "jRjw8",
   "launcher_item_id": "YoQKl"
  },
  "kernelspec": {
   "display_name": "Python 3",
   "language": "python",
   "name": "python3"
  },
  "language_info": {
   "codemirror_mode": {
    "name": "ipython",
    "version": 3
   },
   "file_extension": ".py",
   "mimetype": "text/x-python",
   "name": "python",
   "nbconvert_exporter": "python",
   "pygments_lexer": "ipython3",
   "version": "3.6.8"
  }
 },
 "nbformat": 4,
 "nbformat_minor": 2
}
